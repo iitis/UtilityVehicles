{
 "cells": [
  {
   "cell_type": "markdown",
   "id": "14b842eb-5ff7-4879-b752-864191d90fbf",
   "metadata": {},
   "source": [
    "# Visual examination of relations between known classes for neural network classifiers\n",
    "\n",
    "Code that can be used to create a model for our proposed dataset (UtilityVehicles) and to save the representations of categories that are than used by the visualization methods based on the Hierarchical Clustering and Multidimensional Scaling (MDS). "
   ]
  },
  {
   "cell_type": "code",
   "execution_count": 1,
   "id": "200dde46-ceab-4816-ad8c-85230cb151aa",
   "metadata": {
    "tags": []
   },
   "outputs": [],
   "source": [
    "from tensorflow.keras.applications import MobileNetV2\n",
    "from tensorflow.keras.applications.mobilenet_v2 import preprocess_input\n",
    "import numpy as np\n",
    "import tensorflow as tf"
   ]
  },
  {
   "cell_type": "code",
   "execution_count": 2,
   "id": "47f28e56-4d92-46e5-9104-d5ecb99cab27",
   "metadata": {},
   "outputs": [],
   "source": [
    "tf.keras.utils.set_random_seed(1)\n",
    "tf.config.experimental.enable_op_determinism()"
   ]
  },
  {
   "cell_type": "markdown",
   "id": "3e774924-c6f2-4ad4-b3d2-49eae811dbd1",
   "metadata": {},
   "source": [
    "Preparing the dataset (reading the data, applying the preprocessing function suitable for the MobileNetV2 model)."
   ]
  },
  {
   "cell_type": "code",
   "execution_count": 3,
   "id": "2f22eb5b-c4a9-4904-b84a-4e8789755357",
   "metadata": {
    "tags": []
   },
   "outputs": [
    {
     "name": "stdout",
     "output_type": "stream",
     "text": [
      "Found 2000 files belonging to 10 classes.\n"
     ]
    }
   ],
   "source": [
    "image_size = (224, 224)\n",
    "batch_size = 32\n",
    "\n",
    "train_ds = tf.keras.preprocessing.image_dataset_from_directory(\n",
    "    \"UtilityVehicles/UtilityVehicles\",\n",
    "    seed=1337,\n",
    "    image_size=image_size,\n",
    "    batch_size=batch_size,\n",
    "    label_mode='categorical',\n",
    "    shuffle=False\n",
    ")\n",
    "normalized_ds = train_ds.map(lambda x, y: (preprocess_input(x), y))"
   ]
  },
  {
   "cell_type": "code",
   "execution_count": 4,
   "id": "0b076813-8f0a-41ed-9b5d-7e17c1ffda58",
   "metadata": {
    "tags": []
   },
   "outputs": [],
   "source": [
    "# we take the pretrained MobileNetV2 (pretrained on ImageNet) without is \n",
    "# top layers (used for classification) - this is our feature extractor\n",
    "base_model = MobileNetV2(\n",
    "    weights=\"imagenet\",\n",
    "    include_top=False,\n",
    "    input_shape=(224, 224, 3)\n",
    ")\n",
    "# we freeze all the weights of the feature extractor.\n",
    "base_model.trainable = False"
   ]
  },
  {
   "cell_type": "markdown",
   "id": "d8bc145a-e669-4295-808c-fffcaeae8040",
   "metadata": {},
   "source": [
    "Using the MobileNetV2 feature extractor trained on ImageNet, we create our specialized model that we will use for fine-tuning. It has 10 output neurons (for 10 vehicle classes)."
   ]
  },
  {
   "cell_type": "code",
   "execution_count": 5,
   "id": "5e44f46d-cf48-4158-ab26-064898804731",
   "metadata": {
    "tags": []
   },
   "outputs": [
    {
     "name": "stdout",
     "output_type": "stream",
     "text": [
      "Model: \"model\"\n",
      "_________________________________________________________________\n",
      " Layer (type)                Output Shape              Param #   \n",
      "=================================================================\n",
      " input_2 (InputLayer)        [(None, 224, 224, 3)]     0         \n",
      "                                                                 \n",
      " mobilenetv2_1.00_224 (Funct  (None, 7, 7, 1280)       2257984   \n",
      " ional)                                                          \n",
      "                                                                 \n",
      " global_average_pooling2d (G  (None, 1280)             0         \n",
      " lobalAveragePooling2D)                                          \n",
      "                                                                 \n",
      " dense (Dense)               (None, 10)                12810     \n",
      "                                                                 \n",
      "=================================================================\n",
      "Total params: 2,270,794\n",
      "Trainable params: 12,810\n",
      "Non-trainable params: 2,257,984\n",
      "_________________________________________________________________\n"
     ]
    }
   ],
   "source": [
    "inputs = tf.keras.Input(shape=(224, 224, 3))\n",
    "x = base_model(inputs, training=False)\n",
    "x = tf.keras.layers.GlobalAveragePooling2D()(x)\n",
    "outputs = tf.keras.layers.Dense(10, activation='sigmoid')(x)\n",
    "model = tf.keras.Model(inputs, outputs)\n",
    "\n",
    "model.summary()"
   ]
  },
  {
   "cell_type": "markdown",
   "id": "e75db909-e82e-470d-940c-8ec42fa2b706",
   "metadata": {},
   "source": [
    "Compile and train the model for vehicle classification. We use categorical crossentropy as our loss function and the Adam optimizer. We train our model for 10 epochs."
   ]
  },
  {
   "cell_type": "code",
   "execution_count": 6,
   "id": "1dd351de-aaa7-4e1d-983a-8bd70c32337d",
   "metadata": {
    "tags": []
   },
   "outputs": [
    {
     "name": "stdout",
     "output_type": "stream",
     "text": [
      "Epoch 1/10\n",
      "63/63 [==============================] - 13s 135ms/step - loss: 6.0755 - accuracy: 0.0705\n",
      "Epoch 2/10\n",
      "63/63 [==============================] - 11s 176ms/step - loss: 2.9118 - accuracy: 0.0910\n",
      "Epoch 3/10\n",
      "63/63 [==============================] - 11s 179ms/step - loss: 1.4848 - accuracy: 0.4875\n",
      "Epoch 4/10\n",
      "63/63 [==============================] - 11s 178ms/step - loss: 0.6912 - accuracy: 0.7665\n",
      "Epoch 5/10\n",
      "63/63 [==============================] - 11s 177ms/step - loss: 0.2446 - accuracy: 0.9415\n",
      "Epoch 6/10\n",
      "63/63 [==============================] - 11s 178ms/step - loss: 0.0971 - accuracy: 0.9890\n",
      "Epoch 7/10\n",
      "63/63 [==============================] - 11s 177ms/step - loss: 0.0746 - accuracy: 0.9950\n",
      "Epoch 8/10\n",
      "63/63 [==============================] - 11s 179ms/step - loss: 0.0638 - accuracy: 0.9965\n",
      "Epoch 9/10\n",
      "63/63 [==============================] - 11s 177ms/step - loss: 0.0551 - accuracy: 0.9985\n",
      "Epoch 10/10\n",
      "63/63 [==============================] - 11s 177ms/step - loss: 0.0480 - accuracy: 0.9990\n"
     ]
    },
    {
     "data": {
      "text/plain": [
       "<keras.callbacks.History at 0x1a549afb2b0>"
      ]
     },
     "execution_count": 6,
     "metadata": {},
     "output_type": "execute_result"
    }
   ],
   "source": [
    "model.compile(optimizer=\"adam\",\n",
    "              loss=\"categorical_crossentropy\",\n",
    "              metrics=[\"accuracy\"])\n",
    "model.fit(normalized_ds, epochs=10)"
   ]
  },
  {
   "cell_type": "markdown",
   "id": "55c97f34-3f0a-4558-9757-ecb64e0dfe41",
   "metadata": {},
   "source": [
    "At the end, we create a csv file, in which each row represents a single class (we provide the name of the class as a column in the csv file)."
   ]
  },
  {
   "cell_type": "code",
   "execution_count": 7,
   "id": "c2899d12-c842-4e22-8f71-ae46fe39fa25",
   "metadata": {
    "tags": []
   },
   "outputs": [],
   "source": [
    "# human-readable names of classes\n",
    "mapping = {0: \"manual_forklift_with_lift\", 1: \"manual_forklift_yellow\", \n",
    "           2: \"manual_forklift_orange\", 3:\"petrol_lawn_mower\", 4: \"electric_mower\", \n",
    "           5: \"large_trolley\", 6: \"trolley\", 7: \"robot\", 8: \"tractor\", 9: \"trailer\"}"
   ]
  },
  {
   "cell_type": "code",
   "execution_count": 8,
   "id": "6a97c1d0-f168-4c7b-876c-d29860c625c5",
   "metadata": {
    "tags": []
   },
   "outputs": [],
   "source": [
    "import pandas as pd\n",
    "\n",
    "df2 = pd.DataFrame(np.moveaxis(model.layers[-1].get_weights()[0], 0, -1),\n",
    "                   columns=[i for i in range(0, model.layers[-1].get_weights()[0].shape[0])])\n",
    "df2['name'] = mapping.values()"
   ]
  },
  {
   "cell_type": "markdown",
   "id": "2e99e9e6-b224-40ff-b02f-7b9fd8857e8d",
   "metadata": {},
   "source": [
    "The csv file send below can be used e.g. in Orange visual tool to read the data about categories and produce the results for the hierarchical clustering and MDS (we provide an example pipeline, but also other implementations of these two algorithms can be used - e.g. given via Python SciKit-learn. We use Orange, because it has different built-in interactive tools for MDS and hierarchical clustering)"
   ]
  },
  {
   "cell_type": "code",
   "execution_count": 9,
   "id": "033fce07-003d-4ad7-ab7c-22002943c63f",
   "metadata": {
    "tags": []
   },
   "outputs": [],
   "source": [
    "df2.to_csv('mobilenetv2_weights_transfer_learning.csv', index=False)"
   ]
  },
  {
   "cell_type": "code",
   "execution_count": null,
   "id": "b585edf6-f227-452d-9b77-4477c9712c13",
   "metadata": {},
   "outputs": [],
   "source": []
  }
 ],
 "metadata": {
  "kernelspec": {
   "display_name": "tf",
   "language": "python",
   "name": "tf"
  },
  "language_info": {
   "codemirror_mode": {
    "name": "ipython",
    "version": 3
   },
   "file_extension": ".py",
   "mimetype": "text/x-python",
   "name": "python",
   "nbconvert_exporter": "python",
   "pygments_lexer": "ipython3",
   "version": "3.9.16"
  }
 },
 "nbformat": 4,
 "nbformat_minor": 5
}
